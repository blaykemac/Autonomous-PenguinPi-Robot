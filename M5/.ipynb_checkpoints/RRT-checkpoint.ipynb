{
 "cells": [
  {
   "cell_type": "markdown",
   "metadata": {},
   "source": [
    "# Practical 03 - RRT Algorithm"
   ]
  },
  {
   "cell_type": "markdown",
   "metadata": {},
   "source": [
    "Note: CoLab is not supported for this week. For the online version, please visit https://mybinder.org/v2/gh/tianleimin/ECE4078_Practical_2021/main and proceed as if running locally. **Remember to download a copy of the notebook when you are done if running online. Otherwise, you will lose the notebook once you close the tab.**"
   ]
  },
  {
   "cell_type": "code",
   "execution_count": 1,
   "metadata": {
    "scrolled": true
   },
   "outputs": [],
   "source": [
    "%matplotlib notebook\n",
    "\n",
    "import math\n",
    "import random\n",
    "import os\n",
    "import numpy as np\n",
    "from IPython.display import display, HTML\n",
    "import matplotlib.pyplot as plt\n",
    "import time\n",
    "\n",
    "# Import dependencies and set random seed\n",
    "seed_value = int(time.time())#5\n",
    "# 1. Set `PYTHONHASHSEED` environment variable at a fixed value\n",
    "os.environ['PYTHONHASHSEED'] = str(seed_value)\n",
    "# 2. Set `python` built-in pseudo-random generator at a fixed value\n",
    "random.seed(seed_value)\n",
    "# 3. Set `numpy` pseudo-random generator at a fixed value\n",
    "np.random.seed(seed_value)\n",
    "\n",
    "\n",
    "from helper_james import *\n",
    "from util.DatasetHandler import InputReader\n",
    "\n",
    "global ani"
   ]
  },
  {
   "cell_type": "code",
   "execution_count": 5,
   "metadata": {},
   "outputs": [
    {
     "name": "stdout",
     "output_type": "stream",
     "text": [
      "[[ 1.21796345  0.77701384  0.81328139  0.35012495  0.32462267 -0.50042163\n",
      "  -0.91358993 -0.88407991 -0.46246683 -1.29028903]\n",
      " [-0.40764239  0.40575318 -0.81481767  0.80229406  1.22761572  1.19894809\n",
      "   1.1885798   0.36410694 -0.02666352 -0.06662377]]\n"
     ]
    },
    {
     "ename": "IndexError",
     "evalue": "too many indices for array: array is 1-dimensional, but 2 were indexed",
     "output_type": "error",
     "traceback": [
      "\u001b[1;31m---------------------------------------------------------------------------\u001b[0m",
      "\u001b[1;31mIndexError\u001b[0m                                Traceback (most recent call last)",
      "\u001b[1;32m<ipython-input-5-67ede90f1036>\u001b[0m in \u001b[0;36m<module>\u001b[1;34m\u001b[0m\n\u001b[0;32m     78\u001b[0m \u001b[1;33m\u001b[0m\u001b[0m\n\u001b[0;32m     79\u001b[0m \u001b[1;32mfor\u001b[0m \u001b[0mi\u001b[0m \u001b[1;32min\u001b[0m \u001b[0mrange\u001b[0m\u001b[1;33m(\u001b[0m\u001b[0mlen\u001b[0m\u001b[1;33m(\u001b[0m\u001b[0mmarkers\u001b[0m\u001b[1;33m[\u001b[0m\u001b[1;36m0\u001b[0m\u001b[1;33m,\u001b[0m\u001b[1;33m:\u001b[0m\u001b[1;33m]\u001b[0m\u001b[1;33m)\u001b[0m\u001b[1;33m)\u001b[0m\u001b[1;33m:\u001b[0m\u001b[1;33m\u001b[0m\u001b[1;33m\u001b[0m\u001b[0m\n\u001b[1;32m---> 80\u001b[1;33m     \u001b[0mall_obstacles\u001b[0m\u001b[1;33m.\u001b[0m\u001b[0mappend\u001b[0m\u001b[1;33m(\u001b[0m\u001b[0mCircleT\u001b[0m\u001b[1;33m(\u001b[0m\u001b[0mentry\u001b[0m\u001b[1;33m[\u001b[0m\u001b[1;36m0\u001b[0m\u001b[1;33m,\u001b[0m \u001b[0mi\u001b[0m\u001b[1;33m]\u001b[0m\u001b[1;33m,\u001b[0m \u001b[0mentry\u001b[0m\u001b[1;33m[\u001b[0m\u001b[1;36m1\u001b[0m\u001b[1;33m,\u001b[0m \u001b[0mi\u001b[0m\u001b[1;33m]\u001b[0m\u001b[1;33m,\u001b[0m \u001b[0mr_true_marker\u001b[0m\u001b[1;33m,\u001b[0m \u001b[1;36m3\u001b[0m\u001b[1;33m)\u001b[0m\u001b[1;33m)\u001b[0m\u001b[1;33m\u001b[0m\u001b[1;33m\u001b[0m\u001b[0m\n\u001b[0m\u001b[0;32m     81\u001b[0m \u001b[1;33m\u001b[0m\u001b[0m\n\u001b[0;32m     82\u001b[0m \u001b[1;33m\u001b[0m\u001b[0m\n",
      "\u001b[1;31mIndexError\u001b[0m: too many indices for array: array is 1-dimensional, but 2 were indexed"
     ]
    }
   ],
   "source": [
    "## obstacle list complete, we now want to generate pairings of people and apples, and mark which lemons need to be moved\n",
    "\n",
    "#required_distance = 0.5\n",
    "#goal_error = 0.05\n",
    "\n",
    "## dont move apples that are already in place, find these pairs\n",
    "\n",
    "#people_done = []\n",
    "#apples_done = []\n",
    "#pairs = []\n",
    "\n",
    "\n",
    "#for person_idx, person in enumerate(person_gt):\n",
    "#    for apple_idx, apple in enumerate(apple_gt):\n",
    "#        if apple[0] in apples_done:\n",
    "#            continue\n",
    "#        elif np.hypot(apple[0] - person[0], apple[1] - person[1]) < (required_distance - goal_error):\n",
    "#            #if this is the case, an apple is within range of a person, including some consideration of error\n",
    "#            apples_done.append(apple[0])\n",
    "#            people_done.append(person[0])\n",
    "#            pairs.append((person, apple))\n",
    "#            \n",
    "#people_not_done = [n for n in person_gt if n[0] not in people_done]\n",
    "#apples_not_done = [n for n in apple_gt if n[0] not in apples_done]\n",
    "\n",
    "#print(people_not_done, \"\\n\", apples_not_done)\n",
    "\n",
    "# assemble all combinations of people and apples who are not matched\n",
    "\n",
    "#unmatched_pairs = []\n",
    "#unmatched_person_ids = [n for n in person]\n",
    "\n",
    "#for person in people_not_done:\n",
    "#    for apple in apples_not_done:\n",
    "#        unmatched_pairs.append((person, apple, np.hypot(apple[0] - person[0], apple[1] - person[1])))\n",
    "\n",
    "#print(unmatched_pairs)\n",
    "\n",
    "# pick combination of unmatched pairs which minimises travel distance\n",
    "\n",
    "\n",
    "#list1 = [\"a\", \"b\", \"c\"]\n",
    "#list2 = [1, 2]\n",
    "\n",
    "#all_combinations = [list(zip(each_permutation, list2)) for each_permutation in itertools.permutations(list1, len(list2))]\n",
    "#print(all_combinations)\n",
    "\n",
    "\n",
    "\n",
    "## something new.\n",
    "\n",
    "reader = InputReader('lab_output/')\n",
    "\n",
    "taglist, markers, P = reader.read_slam()\n",
    "objects = reader.read_objects()\n",
    "\n",
    "r_true_apple = 0.075\n",
    "r_true_lemon = 0.06\n",
    "r_true_person = 0.19\n",
    "r_true_marker = 0.1\n",
    "\n",
    "scale = 0.08\n",
    "\n",
    "r_true_apple += scale\n",
    "r_true_lemon += scale\n",
    "r_true_person += scale\n",
    "r_true_marker += scale\n",
    "\n",
    "radii = [r_true_apple, r_true_lemon, r_true_person, r_true_marker]\n",
    "\n",
    "all_obstacles = []\n",
    "\n",
    "for i in range(3):\n",
    "    for entry in objects[i]:\n",
    "        all_obstacles.append(CircleT(entry[0], entry[1], radii[i], i))\n",
    "\n",
    "print(markers)\n",
    "        \n",
    "for i in range(markers.size/2):\n",
    "    all_obstacles.append(CircleT(entry[0, i], entry[1, i], r_true_marker, 3))\n",
    "\n",
    "\n",
    "lemons_not_done = objects_not_done(objects[0], objects[1], objects[2])\n",
    "\n",
    "initial_point = [0, 0]\n",
    "\n",
    "#path = generate_fruit_path([], [], list(objects[1]), all_obstacles, initial_point, 20)\n",
    "\n",
    "\n",
    "\n",
    "\n",
    "#rrt = RRT(start=[-1, -1], goal=[1, 1], width=1.4, height=1.4, obstacle_list=all_obstacles, expand_dis=0.3 , path_resolution=0.04, max_points=50)\n",
    "\n",
    "#print(rrt.planning())\n",
    "ani_path= animate_path_x(np.array(path), (-1.5, 1.5), (-1.5, 1.5), all_obstacles)\n",
    "\n",
    "\n",
    "\n",
    "display(HTML(\"<style>.container { width:100% !important}</style>\"))"
   ]
  },
  {
   "cell_type": "code",
   "execution_count": null,
   "metadata": {},
   "outputs": [],
   "source": []
  }
 ],
 "metadata": {
  "kernelspec": {
   "display_name": "Python 3",
   "language": "python",
   "name": "python3"
  },
  "language_info": {
   "codemirror_mode": {
    "name": "ipython",
    "version": 3
   },
   "file_extension": ".py",
   "mimetype": "text/x-python",
   "name": "python",
   "nbconvert_exporter": "python",
   "pygments_lexer": "ipython3",
   "version": "3.8.8"
  }
 },
 "nbformat": 4,
 "nbformat_minor": 2
}
